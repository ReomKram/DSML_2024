{
 "cells": [
  {
   "cell_type": "markdown",
   "metadata": {},
   "source": [
    "# `DSML_WS_04` - Introduction to Visualization with Matplotlib and Seaborn"
   ]
  },
  {
   "attachments": {},
   "cell_type": "markdown",
   "metadata": {},
   "source": [
    "In this tutorial we will continue with our introduction to Python programming for data science. Today we will focus on **visualization**.\n",
    "\n",
    "We will go through the following:\n",
    "\n",
    "- **Task**: Analyzing flight data using Pandas\n",
    "- **Task**: Getting started with Matplotlib\n",
    "- **Introduction to visualization with `Matplotlib`**: Learn how you can use `Matplotlib` to produce plots that effectively communicate your data\n",
    "- **Advanced visualization in `Seaborn`**: Use `Seaborn` for advanced visualization of complex relationships"
   ]
  },
  {
   "cell_type": "markdown",
   "metadata": {},
   "source": [
    "---"
   ]
  },
  {
   "cell_type": "markdown",
   "metadata": {},
   "source": [
    "## 1. Task: Analyzing flight data using Pandas"
   ]
  },
  {
   "cell_type": "markdown",
   "metadata": {},
   "source": [
    "Last week, you got to know *the* core data science library in Python - Pandas. Let us put what we learned together in a small real-world case.\n",
    "\n",
    "I have provided you with a small dataset from the City of Cologne, which is publicly available via [this link](https://www.offenedaten-koeln.de/dataset/dienstfluege-co2-stadt-koeln-2019). It contains a summary of all business flights made by employees of the city in 2019. The following information are available:\n",
    "- *unit*: code of the organisational unit responsible for these flights\n",
    "- *origin*: origin airport of the flight route \n",
    "- *destination*: destination airport of the flight route\n",
    "- *flights*: number of flights of this route by the respective organisational unit\n",
    "- *persons*: number of persons from the organisational unit taking this flight route\n",
    "- *CO2*: total CO2 emitted as a result of these flights in kilograms\n",
    "\n",
    "Load the csv file called \"business_flights_cologne_2019.csv\" into a pandas dataframe (note: data is separated by \";\"). Afterwards, use your knowledge of pandas to answer the following questions:\n",
    "1. Is the provided dataset missing data, i. e. are there missing values?\n",
    "2. How many business flights took place in total in 2019?\n",
    "3. How many kilograms of CO2 were emitted as a result of these flights in total in 2019?\n",
    "4. Which flight route emitted most CO2 per flight per person? (hint: you can sort dataframes using `.sort_values(by='column_name', ascending=False)`)\n",
    "5. Which organisational unit flew the most? \n",
    "6. What was the most common destination?"
   ]
  },
  {
   "cell_type": "code",
   "execution_count": null,
   "metadata": {},
   "outputs": [],
   "source": [
    "# import pandas\n",
    "import pandas as pd\n",
    "\n",
    "# load csv\n",
    "flights = pd.read_csv('business_flights_cologne_2019.csv', sep = ';')\n",
    "flights.head()"
   ]
  },
  {
   "cell_type": "code",
   "execution_count": null,
   "metadata": {},
   "outputs": [],
   "source": [
    "# Is the provided dataset missing data, i. e. are there missing values?\n",
    "flights.info()"
   ]
  },
  {
   "cell_type": "code",
   "execution_count": null,
   "metadata": {},
   "outputs": [],
   "source": [
    "# How many business flights took place in total in 2019?\n",
    "total_flights = flights['flights'].sum()\n",
    "print('Total number of flights:', total_flights)"
   ]
  },
  {
   "cell_type": "code",
   "execution_count": null,
   "metadata": {},
   "outputs": [],
   "source": [
    "# How many kilograms of CO2 were emitted as a result of these flights in total in 2019?\n",
    "total_CO2 = flights['CO2'].sum()\n",
    "print('Total CO2:', total_CO2)"
   ]
  },
  {
   "cell_type": "code",
   "execution_count": null,
   "metadata": {},
   "outputs": [],
   "source": [
    "# Which flight route emitted most CO2 per flight per person?\n",
    "flights['route_emissions'] = flights['CO2'] / flights['flights'] / flights['persons']\n",
    "flights.sort_values(by='route_emissions', ascending=False).head(10)"
   ]
  },
  {
   "cell_type": "code",
   "execution_count": null,
   "metadata": {},
   "outputs": [],
   "source": [
    "# Which organisational unit flew the most?\n",
    "flights.groupby('unit').agg({'flights':'sum'}).sort_values(by='flights', ascending=False).head(10)"
   ]
  },
  {
   "cell_type": "code",
   "execution_count": null,
   "metadata": {},
   "outputs": [],
   "source": [
    "# What was the most common destination?\n",
    "flights.groupby('destination').agg({'flights':'sum'}).sort_values(by='flights', ascending=False).head()"
   ]
  },
  {
   "cell_type": "markdown",
   "metadata": {},
   "source": [
    "---"
   ]
  },
  {
   "cell_type": "markdown",
   "metadata": {},
   "source": [
    "## 2. Task: Getting started with Matplotlib"
   ]
  },
  {
   "cell_type": "markdown",
   "metadata": {},
   "source": [
    "This week, we will be using Python to visualize data. The library we will be using for this is called Matplotlib.\n",
    "\n",
    "As always, we first have to import Matplotlib to use its functionalities within this Jupyter notebook. Execute the following cell to continue."
   ]
  },
  {
   "cell_type": "code",
   "execution_count": null,
   "metadata": {},
   "outputs": [],
   "source": [
    "import matplotlib as mpl\n",
    "import matplotlib.pyplot as plt\n",
    "%matplotlib inline"
   ]
  },
  {
   "cell_type": "markdown",
   "metadata": {},
   "source": [
    "Now let us create some data to visualize. Think about last week (Monday to Sunday). How many steps did you do per day? If you have a tracker like a smartwatch you could check the exact values, or just come up with some hypothetical values. Create a list of strings for each weekday (i.e., [\"Mon\", \"Tue\",...]) and assign it to a variable called `weekdays`. Create a second list with your daily step counts from Monday to Sunday and assign it to a variable called `steps`."
   ]
  },
  {
   "cell_type": "code",
   "execution_count": null,
   "metadata": {},
   "outputs": [],
   "source": [
    "# your code here\n",
    "weekdays = [\"Mon\", \"Tue\", \"Wed\", \"Thu\", \"Fri\", \"Sat\", \"Sun\"]\n",
    "steps = [8500, 11000, 9500, 10000, 9500, 8500, 2000]"
   ]
  },
  {
   "cell_type": "markdown",
   "metadata": {},
   "source": [
    "Let us plot our daily steps using Matplotlib. The function to create a simple line plot is `plt.plot(x_values, y_values)`. After plt.plot(...), write plt.show() to print the plot below the cell. Create and print the plot below."
   ]
  },
  {
   "cell_type": "code",
   "execution_count": null,
   "metadata": {},
   "outputs": [],
   "source": [
    "# your code here\n",
    "plt.plot(weekdays, steps)\n",
    "plt.show()"
   ]
  },
  {
   "cell_type": "markdown",
   "metadata": {},
   "source": [
    "One commonly set goal is to reach 10.000 steps per day. Let's add the 10.000 daily steps target to our plot. Repeat your code from before, but before calling plt.show(), write plt.plot(...) with weekdays as x_values and 7 times 10000 as y_values."
   ]
  },
  {
   "cell_type": "code",
   "execution_count": null,
   "metadata": {},
   "outputs": [],
   "source": [
    "# your code here\n",
    "plt.plot(weekdays, steps)\n",
    "plt.plot(weekdays, [10000]*7)\n",
    "plt.show()"
   ]
  },
  {
   "cell_type": "markdown",
   "metadata": {},
   "source": [
    "Now we have two lines: one for our actual daily steps, and one for the daily target of 10.000 steps. Let us add a legend to our plot to include this information. Do this by including the label parameter in each of your plt.plot() functions (e.g., `plt.plot(..., label=\"label\")`), and call `plt.legend()` before plt.show()."
   ]
  },
  {
   "cell_type": "code",
   "execution_count": null,
   "metadata": {},
   "outputs": [],
   "source": [
    "# your code here\n",
    "plt.plot(weekdays, steps, label=\"Actual Steps\")\n",
    "plt.plot(weekdays, [10000]*7, label=\"Step Target\")\n",
    "plt.legend()\n",
    "plt.show()"
   ]
  },
  {
   "cell_type": "markdown",
   "metadata": {},
   "source": [
    "Finally, let's add a title and labels for the x-axis and y-axis. We can do so by calling `plt.title(\"title\")`, `plt.xlabel(\"xlabel\")`, and `plt.ylabel(\"ylabel\")` before plt.show(). Create a final version of your plot with corresponding title and labels below."
   ]
  },
  {
   "cell_type": "code",
   "execution_count": null,
   "metadata": {},
   "outputs": [],
   "source": [
    "# your code here\n",
    "plt.plot(weekdays, steps, label=\"Actual Steps\")\n",
    "plt.plot(weekdays, [10000]*7, label=\"Step Target\")\n",
    "plt.legend()\n",
    "plt.title(\"Daily Steps for Last Week\")\n",
    "plt.xlabel(\"Weekday\")\n",
    "plt.ylabel(\"Steps\")\n",
    "plt.show()"
   ]
  },
  {
   "cell_type": "markdown",
   "metadata": {},
   "source": [
    "---"
   ]
  },
  {
   "cell_type": "markdown",
   "metadata": {},
   "source": [
    "## 3. Introduction to `Matplotlib`"
   ]
  },
  {
   "attachments": {},
   "cell_type": "markdown",
   "metadata": {},
   "source": [
    "Matplotlib is a multi-platform data visualization library built on NumPy arrays. It was originally designed as a patch to IPython for enabling interactive MATLAB-style plotting from the IPython command line. To those of you with experience in working with MATLAB some of the functionality and styles may, therefore, seem familiar, although syntax varies.\n",
    "\n",
    "Matplotlib allows for abundant modification and personalization of graphs and plots, which cannot all be covered within the scope of this tutorial. However, when working with the library, the Matplotlib website can act as a powerful reference and source of inspiration. Please have a look [here](https://matplotlib.org/#installation).\n",
    "\n",
    "Despite being one of the oldest  visualization libraries in Python, Matplotlib is still widely used and valued as a well proven, stable and easy to use tool. New add-ons building on the Matplotlib API and using largely the same code such as Seaborn have emerged, which mainly exhibit slicker designs. These tools are for you to be checked out in your own time and are not part of this course.\n",
    "\n",
    "Today we will show you:\n",
    "* How to plot simple graphs\n",
    "* How to modify the size, shape and design of your graph\n",
    "* The different plot styles"
   ]
  },
  {
   "cell_type": "markdown",
   "metadata": {},
   "source": [
    "Just as we use the __np__ shorthand for NumPy and the __pd__ shorthand for Pandas, we will use some standard shorthands for Matplotlib imports:"
   ]
  },
  {
   "cell_type": "code",
   "execution_count": 8,
   "metadata": {},
   "outputs": [],
   "source": [
    "import numpy as np\n",
    "import pandas as pd\n",
    "import matplotlib as mpl\n",
    "import matplotlib.pyplot as plt"
   ]
  },
  {
   "cell_type": "markdown",
   "metadata": {},
   "source": [
    "Plotting interactively within an IPython notebook can be done with the %matplotlib command, and works in a similar way to the IPython shell. In the IPython notebook, you also have the option of embedding graphics directly in the notebook, with two possible options:\n",
    "* `%matplotlib notebook` will lead to interactive plots embedded within the notebook\n",
    "* `%matplotlib inline` will lead to static images of your plot embedded in the notebook\n",
    "\n",
    "For this book, we will generally opt for `%matplotlib inline`:"
   ]
  },
  {
   "cell_type": "code",
   "execution_count": null,
   "metadata": {},
   "outputs": [],
   "source": [
    "%matplotlib inline"
   ]
  },
  {
   "attachments": {},
   "cell_type": "markdown",
   "metadata": {},
   "source": [
    "### Plots and Sub-Plots\n",
    "\n",
    "We will illustrate the basic functionality of Matplotlib by plotting two simple exponential functions and a simple linear function (x, x^2 and x^3) as line plots.\n",
    "\n",
    "#### Creating a single (line) plot\n",
    "\n",
    "For defining the plot we use `plt.plot()`. The command `plt.show()` then starts an event loop by looking for all currently active figure objects, and opening one or more interactive windows that display your figure(s). "
   ]
  },
  {
   "cell_type": "code",
   "execution_count": null,
   "metadata": {},
   "outputs": [],
   "source": [
    "x = np.linspace(0, 5, 100)\n",
    "\n",
    "y1=x\n",
    "y2=x**2\n",
    "y3=x**3\n",
    "\n",
    "plt.plot(x, y1)\n",
    "plt.plot(x, y2)\n",
    "plt.plot(x, y3)\n",
    "\n",
    "plt.show()"
   ]
  },
  {
   "attachments": {},
   "cell_type": "markdown",
   "metadata": {},
   "source": [
    "#### Annotating and labelling plots\n",
    "We can optimize the resulting plot in various ways, e.g.:\n",
    "\n",
    "* Set a title: `plt.title('name')`\n",
    "* Name the axes: `plt.xlabel('name')`, `plt.ylabel('name')`\n",
    "* Include a legend: `plt.plot(label=\"xx\")` and `plt.legend()`"
   ]
  },
  {
   "cell_type": "code",
   "execution_count": null,
   "metadata": {},
   "outputs": [],
   "source": [
    "# Add labels to the plots (will show up in legend)\n",
    "plt.plot(x, y1, label=\"linear\")\n",
    "plt.plot(x, y2, label=\"quadratic\")\n",
    "plt.plot(x, y3, label=\"cubic\")\n",
    "\n",
    "# Add diagram and axes titles\n",
    "plt.xlabel('x', fontsize=16, fontname=\"Arial\")\n",
    "plt.ylabel('f(x)', fontsize=16)\n",
    "plt.title('Test diagram', fontsize=20)\n",
    "\n",
    "# Display legend\n",
    "# Use loc function to choose optimal position of legend (loc=0 means Matplotlib chooses optimal position independently)\n",
    "\n",
    "plt.legend(loc=\"lower left\")\n",
    "\n",
    "# Show plot\n",
    "plt.show()"
   ]
  },
  {
   "attachments": {},
   "cell_type": "markdown",
   "metadata": {},
   "source": [
    "#### Creating multiple sub plots\n",
    "\n",
    "Sometimes we may wish to see multiple sub-plots next to each other. For this `plt.subplot()` is a useful tool. We will demonstrate with a quick example."
   ]
  },
  {
   "cell_type": "code",
   "execution_count": null,
   "metadata": {},
   "outputs": [],
   "source": [
    "# plt.subplot syntax: (# of rows, # of columns, plot number)\n",
    "\n",
    "# subplot no. 1\n",
    "plt.subplot(1,2,1)\n",
    "plt.xlabel('x-axis')\n",
    "plt.ylabel('y-axis')\n",
    "plt.title('diagram #1')\n",
    "plt.plot(x, y1)\n",
    "\n",
    "# subplot no. 2\n",
    "plt.subplot(1,2,2)\n",
    "plt.xlabel('x-axis')\n",
    "plt.ylabel('y-axis')\n",
    "plt.title('diagram #2')\n",
    "plt.plot(x, y2)\n",
    "\n",
    "plt.show()"
   ]
  },
  {
   "attachments": {},
   "cell_type": "markdown",
   "metadata": {},
   "source": [
    "### Object-based plotting\n",
    "\n",
    "Object-based plotting offers better control of your plot, particularly if you are working with multiple objects. While in the above examples the axes were created for us in the background, we have to define them here manually. While this might seem more complicated at first it offers better flexibility. For instance, we can add more than one axis.\n",
    "\n",
    "For object-oriented Matplotlib plots, we start by creating a figure and axes. In their simplest form, a figure and axes can be created as follows:"
   ]
  },
  {
   "cell_type": "code",
   "execution_count": null,
   "metadata": {},
   "outputs": [],
   "source": [
    "# create figure (= empty workspace)\n",
    "fig_1 = plt.figure(figsize=(10,4))\n",
    "\n",
    "# add axes to the figure (arguments: left, bottom, width, height (in that order; all specified as fractions of the figure dimensions)); we will explore this further below\n",
    "ax_1 = fig_1.add_axes([0, 0, 0.5, 0.5])\n",
    "ax_1.plot(x, y1)\n",
    "\n",
    "# add elements to axis\n",
    "ax_1.set_xlabel('x')\n",
    "ax_1.set_ylabel('f(x)')\n",
    "ax_1.set_title('Diagram title')\n",
    "\n",
    "plt.show()"
   ]
  },
  {
   "cell_type": "markdown",
   "metadata": {},
   "source": [
    "As mentioned above, one of the benefits of object-based Matplotlib plots is greater flexibility, e.g. by adding multiple axes."
   ]
  },
  {
   "cell_type": "code",
   "execution_count": null,
   "metadata": {},
   "outputs": [],
   "source": [
    "# empty work space\n",
    "fig_2 = plt.figure()\n",
    "\n",
    "ax_2 = fig_2.add_axes([0.1, 0.1, 0.8, 0.8]) # main axes\n",
    "ax_3 = fig_2.add_axes([0.1, 0.1, 0.4, 0.3]) # added axes\n",
    "\n",
    "# larger diagramm with axes 2\n",
    "ax_2.plot(x, y2)\n",
    "ax_2.set_xlabel('x-axis')\n",
    "ax_2.set_ylabel('y-axis')\n",
    "ax_2.set_title('Large Diagram')\n",
    "\n",
    "# smaller diagramm with axes 3\n",
    "ax_3.plot(y2, x)\n",
    "ax_3.set_xlabel('x-axis')\n",
    "ax_3.set_ylabel('y-axis')\n",
    "ax_3.set_title('Small Diagram')\n",
    "\n",
    "plt.show()"
   ]
  },
  {
   "cell_type": "markdown",
   "metadata": {},
   "source": [
    "We can also use object-based plotting for subplots. Here is an example:"
   ]
  },
  {
   "cell_type": "code",
   "execution_count": null,
   "metadata": {
    "scrolled": true
   },
   "outputs": [],
   "source": [
    "# instead of plt.figure() we use plt.subplots(), creating an array of axes and an empty figure\n",
    "fig_3, axes = plt.subplots(nrows = 1, ncols = 2, figsize= (10,4))\n",
    "\n",
    "plt.show()"
   ]
  },
  {
   "cell_type": "code",
   "execution_count": null,
   "metadata": {},
   "outputs": [],
   "source": [
    "# array of axes\n",
    "print(axes)"
   ]
  },
  {
   "cell_type": "code",
   "execution_count": null,
   "metadata": {},
   "outputs": [],
   "source": [
    "# we can interate through this array to set the axes and plot onto them\n",
    "\n",
    "for ax in axes:\n",
    "    ax.plot(x, y3)\n",
    "    ax.set_xlabel('x')\n",
    "    ax.set_ylabel('y')\n",
    "    ax.set_title('title')\n",
    "    \n",
    "    \n",
    "# we could also do it without looping:\n",
    "#axes[0].plot(x, y3)\n",
    "#axes[0].set_xlabel('x')\n",
    "#axes[0].set_ylabel('y')\n",
    "#axes[0].set_title('title')\n",
    "\n",
    "#axes[1].plot(x, y3)\n",
    "#axes[1].set_xlabel('x')\n",
    "#axes[1].set_ylabel('y')\n",
    "#axes[1].set_title('title')\n",
    "\n",
    "# display plots\n",
    "fig_3.tight_layout() # avoid overlapping\n",
    "\n",
    "fig_3"
   ]
  },
  {
   "cell_type": "code",
   "execution_count": null,
   "metadata": {},
   "outputs": [],
   "source": [
    "# check out our axes object\n",
    "print(axes)"
   ]
  },
  {
   "attachments": {},
   "cell_type": "markdown",
   "metadata": {},
   "source": [
    "__Object-based plotting using plt.subplots() is generally the most flexible and covenient way of producing high-quality plots, even with just one pane!__"
   ]
  },
  {
   "cell_type": "markdown",
   "metadata": {},
   "source": [
    "### Plot appearance"
   ]
  },
  {
   "attachments": {},
   "cell_type": "markdown",
   "metadata": {},
   "source": [
    "#### Modifying size and shape\n",
    "\n",
    "Matplotlib allows us to set aspect ratio, DPI and diagram size. For this we use the `figsize` and `dpi` arguments.\n",
    "\n",
    "* `figsize` is a tupel of width and height in inches (default = (6.4, 4.8))\n",
    "* `dpi` means dots-per-inch (default = 100.0)\n",
    "\n",
    "For example:"
   ]
  },
  {
   "cell_type": "code",
   "execution_count": null,
   "metadata": {},
   "outputs": [],
   "source": [
    "# play around with the figsize and dpi arguments\n",
    "fig_4, ax = plt.subplots(figsize=(10,4), dpi = 100) # note: here we use subplots even for just a single plot\n",
    "\n",
    "ax.plot(x,y3,label=\"cubic\")\n",
    "ax.set_xlabel('x-axis')\n",
    "ax.set_ylabel('y-axis')\n",
    "ax.set_title('Large Diagram', fontsize=16, fontname=\"Arial\")\n",
    "\n",
    "plt.legend(loc=0, fontsize=12)\n",
    "\n",
    "plt.show()"
   ]
  },
  {
   "attachments": {},
   "cell_type": "markdown",
   "metadata": {},
   "source": [
    "#### Defining diagram area\n",
    "\n",
    "We can set diagram areas and axes with `set_ylim` and `set_xlim`. Alternatively you can use `axis(\"tight\")` to automatically create a fitted axis:"
   ]
  },
  {
   "cell_type": "code",
   "execution_count": null,
   "metadata": {},
   "outputs": [],
   "source": [
    "fig_5, axes = plt.subplots(1, 3, figsize=(16, 9))\n",
    "\n",
    "axes[0].plot(x, y2, x, y3)\n",
    "axes[0].set_title(\"Standard area\")\n",
    "\n",
    "axes[1].plot(x, y2, x, y3)\n",
    "axes[1].axis('tight')\n",
    "axes[1].set_title(\"Fitted area\")\n",
    "\n",
    "axes[2].plot(x, y2, x, y3)\n",
    "axes[2].set_ylim([0, 50])\n",
    "axes[2].set_xlim([0, 3])\n",
    "axes[2].set_title(\"User defined area\")\n",
    "\n",
    "plt.tight_layout()\n",
    "plt.show()"
   ]
  },
  {
   "cell_type": "markdown",
   "metadata": {},
   "source": [
    "#### Modifying colour and style\n",
    "We can manually adjust the appearance of the graph. For instance, we may:\n",
    "* Set line colour\n",
    "* Set line style"
   ]
  },
  {
   "cell_type": "code",
   "execution_count": null,
   "metadata": {},
   "outputs": [],
   "source": [
    "# add style and labels to the plots (will show up in legend)\n",
    "plt.plot(x, y1,'b+-',label=\"x\")\n",
    "plt.plot(x, y2, 'g.--',label=\"x^2\",)\n",
    "\n",
    "# Add diagram and axes titles\n",
    "plt.xlabel('x-axis')\n",
    "plt.ylabel('y-axis')\n",
    "plt.title('Test diagram')\n",
    "\n",
    "# display legend\n",
    "plt.legend(loc=0)\n",
    "\n",
    "# Show plot\n",
    "plt.show()"
   ]
  },
  {
   "cell_type": "markdown",
   "metadata": {},
   "source": [
    "A whole range of different design options exist. In the following we will show you a few. Please refer to the Matplotlib repository for a comprehensive overview of design options and styles."
   ]
  },
  {
   "cell_type": "code",
   "execution_count": null,
   "metadata": {},
   "outputs": [],
   "source": [
    "diag, ax = plt.subplots(figsize=(12,6))\n",
    "\n",
    "# specify color and linewidth\n",
    "ax.plot(x, x+2, color=\"red\", linewidth=0.25)\n",
    "ax.plot(x, x+4, color=\"red\", linewidth=0.50)\n",
    "ax.plot(x, x+6, color=\"red\", linewidth=1.00)\n",
    "ax.plot(x, x+8, color=\"red\", linewidth=2.00)\n",
    "\n",
    "# user-defined lines: ‘-‘, ‘-.’, ‘:’\n",
    "ax.plot(x, x+10, color=\"green\", lw=3, linestyle='-')\n",
    "ax.plot(x, x+12, color=\"green\", lw=3, linestyle='-.')\n",
    "ax.plot(x, x+14, color=\"green\", lw=3, linestyle=':')\n",
    "\n",
    "# possible markers: '+', 'o', '*', 's', ',', '.', '1', '2', '3', '4', ...\n",
    "ax.plot(x, x+16, color=\"blue\", lw=1, ls='-', marker='+')\n",
    "ax.plot(x, x+18, color=\"blue\", lw=1, ls='-', marker='o')\n",
    "ax.plot(x, x+20, color=\"blue\", lw=1, ls='-', marker='s')\n",
    "ax.plot(x, x+22, color=\"blue\", lw=1, ls='-', marker='1')\n",
    "\n",
    "# adjust marker size and colour\n",
    "ax.plot(x, x+24, color=\"purple\", lw=1, ls='-', marker='o', markersize=2)\n",
    "ax.plot(x, x+26, color=\"purple\", lw=1, ls='-', marker='o', markersize=4)\n",
    "ax.plot(x, x+28, color=\"purple\", lw=1, ls='-', marker='o', markersize=6, markerfacecolor=\"red\")\n",
    "ax.plot(x, x+30, color=\"purple\", lw=1, ls='-', marker='o', markersize=8, \n",
    "        markerfacecolor=\"yellow\", markeredgewidth=1, markeredgecolor=\"green\")\n",
    "\n",
    "plt.show()"
   ]
  },
  {
   "attachments": {},
   "cell_type": "markdown",
   "metadata": {},
   "source": [
    "#### Using styles to create appealing plots\n",
    "\n",
    "While matplotlib offers a broad range of opportunities to tweak the appearance of your plots, it might be helpful to use packages such as [SciencePlots](https://pypi.org/project/SciencePlots/) or [Aquarel](https://pypi.org/project/aquarel/) to speed up the process of generating presentation-ready figures. We provide two simple examples below, but make sure to check out the linked resources."
   ]
  },
  {
   "cell_type": "code",
   "execution_count": null,
   "metadata": {},
   "outputs": [],
   "source": [
    "# make sure to install the packages in your environment before importing\n",
    "import scienceplots\n",
    "from aquarel import load_theme"
   ]
  },
  {
   "cell_type": "code",
   "execution_count": null,
   "metadata": {},
   "outputs": [],
   "source": [
    "# example using scienceplots\n",
    "# note that scienceplots requires latex installed on your device; once you do, you can delete the 'no-latex' part\n",
    "with plt.style.context(['science','no-latex']):\n",
    "    plt.figure(figsize=(10,6))\n",
    "    plt.plot(x, y1, label=\"linear\")\n",
    "    plt.plot(x, y2, label=\"quadratic\")\n",
    "    plt.plot(x, y3, label=\"cubic\")\n",
    "    plt.xlabel('x', fontsize=10, fontname=\"Arial\")\n",
    "    plt.ylabel('f(x)', fontsize=10)\n",
    "    plt.title('Test diagram', fontsize=18)\n",
    "    plt.legend(loc=\"upper left\")\n",
    "    plt.show()"
   ]
  },
  {
   "cell_type": "code",
   "execution_count": null,
   "metadata": {},
   "outputs": [],
   "source": [
    "# example using aquarel\n",
    "with load_theme(\"arctic_light\"):\n",
    "    plt.figure(figsize=(10,6))\n",
    "    plt.plot(x, y1, label=\"linear\")\n",
    "    plt.plot(x, y2, label=\"quadratic\")\n",
    "    plt.plot(x, y3, label=\"cubic\")\n",
    "    plt.xlabel('x', fontsize=10, fontname=\"Arial\")\n",
    "    plt.ylabel('f(x)', fontsize=10)\n",
    "    plt.title('Test diagram', fontsize=18)\n",
    "    plt.legend(loc=\"upper left\")\n",
    "    plt.show()"
   ]
  },
  {
   "cell_type": "code",
   "execution_count": null,
   "metadata": {},
   "outputs": [],
   "source": [
    "# reset to default Matplotlib style\n",
    "plt.rcdefaults()"
   ]
  },
  {
   "attachments": {},
   "cell_type": "markdown",
   "metadata": {},
   "source": [
    "You can save a figure as a png file using the method .savefig"
   ]
  },
  {
   "cell_type": "code",
   "execution_count": null,
   "metadata": {},
   "outputs": [],
   "source": [
    "diag.savefig(\"test.png\")"
   ]
  },
  {
   "attachments": {},
   "cell_type": "markdown",
   "metadata": {},
   "source": [
    "### Other plot types\n",
    "\n",
    "In addition to normal `plot` methods there are further arguments to produce various types of diagrams. A hollistic overview of diagram types can be viewed on the official Matplotlib website at: https://matplotlib.org/2.0.2/gallery.html"
   ]
  },
  {
   "cell_type": "code",
   "execution_count": null,
   "metadata": {},
   "outputs": [],
   "source": [
    "# scatter plots:\n",
    "scatter = plt.figure()\n",
    "axscat = scatter.add_axes([0.1, 0.1, 0.8, 0.8])\n",
    "\n",
    "x = np.random.randn(100)\n",
    "y = 0.5*x**2+0.3*np.random.randn(100)\n",
    "\n",
    "axscat.scatter(x,y)\n",
    "axscat.axis(\"tight\")\n",
    "plt.show()"
   ]
  },
  {
   "cell_type": "code",
   "execution_count": null,
   "metadata": {},
   "outputs": [],
   "source": [
    "# histogram plots:\n",
    "from random import sample\n",
    "data = sample(range(1, 1000), 500)\n",
    "\n",
    "plt.hist(data, bins=20, edgecolor=\"w\")\n",
    "plt.show()"
   ]
  },
  {
   "cell_type": "code",
   "execution_count": null,
   "metadata": {},
   "outputs": [],
   "source": [
    "# parallel coordinates plot: visualising multidimensional data\n",
    "\n",
    "# let's import the already familiar iris-dataset for this one\n",
    "iris = pd.read_csv(\"iris.csv\")\n",
    "\n",
    "iris.head()"
   ]
  },
  {
   "cell_type": "code",
   "execution_count": null,
   "metadata": {},
   "outputs": [],
   "source": [
    "# note that Pandas has an integrated plotting module that is built on Matplotlib\n",
    "pd.plotting.parallel_coordinates(iris, class_column = 'Species', cols = [\"Sepal.Length\", \"Sepal.Width\", \"Petal.Length\", \"Petal.Width\"], color=('red', 'blue', 'green'))\n",
    "plt.show()"
   ]
  },
  {
   "cell_type": "markdown",
   "metadata": {},
   "source": [
    "---"
   ]
  },
  {
   "cell_type": "markdown",
   "metadata": {},
   "source": [
    "## 4. Advanced visualization using `Seaborn`"
   ]
  },
  {
   "attachments": {},
   "cell_type": "markdown",
   "metadata": {},
   "source": [
    "Seaborn is a library for making statistical graphics in Python. It is built on top of `Matplotlib` and closely integrated with `Pandas` data structures. It provides a high-level interface for drawing attractive and informative statistical graphics. As such, it is often easier to code than pure matplotlib graphs and often results in visually more appealing graphics. Plotting options are very comprehensive. An overview of plot types and styles can be found [here](https://seaborn.pydata.org/introduction.html). In this short introduction we will briefly introduce:\n",
    "- Categorical plots (barplots, countplots, boxplots, violin plots, etc. )\n",
    "- Grid plots\n",
    "- Distibution plots"
   ]
  },
  {
   "cell_type": "markdown",
   "metadata": {},
   "source": [
    "### Categorical plots"
   ]
  },
  {
   "cell_type": "code",
   "execution_count": 5,
   "metadata": {},
   "outputs": [],
   "source": [
    "import seaborn as sns\n"
   ]
  },
  {
   "cell_type": "code",
   "execution_count": 6,
   "metadata": {},
   "outputs": [
    {
     "data": {
      "text/html": [
       "<div>\n",
       "<style scoped>\n",
       "    .dataframe tbody tr th:only-of-type {\n",
       "        vertical-align: middle;\n",
       "    }\n",
       "\n",
       "    .dataframe tbody tr th {\n",
       "        vertical-align: top;\n",
       "    }\n",
       "\n",
       "    .dataframe thead th {\n",
       "        text-align: right;\n",
       "    }\n",
       "</style>\n",
       "<table border=\"1\" class=\"dataframe\">\n",
       "  <thead>\n",
       "    <tr style=\"text-align: right;\">\n",
       "      <th></th>\n",
       "      <th>total_bill</th>\n",
       "      <th>tip</th>\n",
       "      <th>sex</th>\n",
       "      <th>smoker</th>\n",
       "      <th>day</th>\n",
       "      <th>time</th>\n",
       "      <th>size</th>\n",
       "    </tr>\n",
       "  </thead>\n",
       "  <tbody>\n",
       "    <tr>\n",
       "      <th>0</th>\n",
       "      <td>16.99</td>\n",
       "      <td>1.01</td>\n",
       "      <td>Female</td>\n",
       "      <td>No</td>\n",
       "      <td>Sun</td>\n",
       "      <td>Dinner</td>\n",
       "      <td>2</td>\n",
       "    </tr>\n",
       "    <tr>\n",
       "      <th>1</th>\n",
       "      <td>10.34</td>\n",
       "      <td>1.66</td>\n",
       "      <td>Male</td>\n",
       "      <td>No</td>\n",
       "      <td>Sun</td>\n",
       "      <td>Dinner</td>\n",
       "      <td>3</td>\n",
       "    </tr>\n",
       "    <tr>\n",
       "      <th>2</th>\n",
       "      <td>21.01</td>\n",
       "      <td>3.50</td>\n",
       "      <td>Male</td>\n",
       "      <td>No</td>\n",
       "      <td>Sun</td>\n",
       "      <td>Dinner</td>\n",
       "      <td>3</td>\n",
       "    </tr>\n",
       "    <tr>\n",
       "      <th>3</th>\n",
       "      <td>23.68</td>\n",
       "      <td>3.31</td>\n",
       "      <td>Male</td>\n",
       "      <td>No</td>\n",
       "      <td>Sun</td>\n",
       "      <td>Dinner</td>\n",
       "      <td>2</td>\n",
       "    </tr>\n",
       "    <tr>\n",
       "      <th>4</th>\n",
       "      <td>24.59</td>\n",
       "      <td>3.61</td>\n",
       "      <td>Female</td>\n",
       "      <td>No</td>\n",
       "      <td>Sun</td>\n",
       "      <td>Dinner</td>\n",
       "      <td>4</td>\n",
       "    </tr>\n",
       "  </tbody>\n",
       "</table>\n",
       "</div>"
      ],
      "text/plain": [
       "   total_bill   tip     sex smoker  day    time  size\n",
       "0       16.99  1.01  Female     No  Sun  Dinner     2\n",
       "1       10.34  1.66    Male     No  Sun  Dinner     3\n",
       "2       21.01  3.50    Male     No  Sun  Dinner     3\n",
       "3       23.68  3.31    Male     No  Sun  Dinner     2\n",
       "4       24.59  3.61  Female     No  Sun  Dinner     4"
      ]
     },
     "execution_count": 6,
     "metadata": {},
     "output_type": "execute_result"
    }
   ],
   "source": [
    "# we import a new dataset, which is built into seaborn\n",
    "tips = sns.load_dataset(\"tips\")\n",
    "tips.head()"
   ]
  },
  {
   "cell_type": "markdown",
   "metadata": {},
   "source": [
    "#### Barplots & Countplots"
   ]
  },
  {
   "cell_type": "code",
   "execution_count": 9,
   "metadata": {},
   "outputs": [
    {
     "name": "stderr",
     "output_type": "stream",
     "text": [
      "/opt/miniconda3/envs/DSML_env/lib/python3.12/site-packages/seaborn/categorical.py:641: FutureWarning: The default of observed=False is deprecated and will be changed to True in a future version of pandas. Pass observed=False to retain current behavior or observed=True to adopt the future default and silence this warning.\n",
      "  grouped_vals = vals.groupby(grouper)\n",
      "/opt/miniconda3/envs/DSML_env/lib/python3.12/site-packages/seaborn/categorical.py:641: FutureWarning: The default of observed=False is deprecated and will be changed to True in a future version of pandas. Pass observed=False to retain current behavior or observed=True to adopt the future default and silence this warning.\n",
      "  grouped_vals = vals.groupby(grouper)\n"
     ]
    },
    {
     "data": {
      "image/png": "[encoded data removed]",
      "text/plain": [
       "<Figure size 1000x400 with 2 Axes>"
      ]
     },
     "metadata": {},
     "output_type": "display_data"
    }
   ],
   "source": [
    "f, axes = plt.subplots(1, 2, figsize=(10, 4)) # if both plots should have the same y-axis, use sharey=True\n",
    "\n",
    "# barplot: shows point estimates and errors as rectangular bars\n",
    "sns.barplot(x=\"sex\",y=\"tip\",data=tips,estimator='mean', errorbar=('ci', 95),ax=axes[0],palette=\"magma\")\n",
    "\n",
    "# countplot: shows the counts of observations in each categorical bin\n",
    "sns.countplot(x=\"sex\",data=tips, ax=axes[1],palette=\"OrRd\")\n",
    "\n",
    "plt.show()"
   ]
  },
  {
   "attachments": {},
   "cell_type": "markdown",
   "metadata": {},
   "source": [
    "#### Box- and Whiskerplots\n",
    "\n",
    "Boxplots graphically depict groups of numerical data through their quartiles. Boxplots may also have lines extending vertically from the boxes (whiskers), indicating variability outside the upper and lower quartiles, hence the terms box-and-whisker plot and box-and-whisker diagram."
   ]
  },
  {
   "cell_type": "code",
   "execution_count": null,
   "metadata": {},
   "outputs": [],
   "source": [
    "sns.boxplot(x=\"day\",y=\"tip\",data=tips,palette=\"mako\")\n",
    "plt.show()"
   ]
  },
  {
   "attachments": {},
   "cell_type": "markdown",
   "metadata": {},
   "source": [
    "The `hue` statement allows for categorical splitting of the data - a very useful technique."
   ]
  },
  {
   "cell_type": "code",
   "execution_count": null,
   "metadata": {},
   "outputs": [],
   "source": [
    "sns.boxplot(x=\"day\",y=\"tip\",data=tips,palette=\"rainbow\", hue=\"sex\")\n",
    "plt.show()"
   ]
  },
  {
   "attachments": {},
   "cell_type": "markdown",
   "metadata": {},
   "source": [
    "#### Violine plots\n",
    "\n",
    "Violine plots are somewhat similar to boxplots. The center of the violine resembles a boxplot. Additionally, however, density curves showcase the distributions of data."
   ]
  },
  {
   "cell_type": "code",
   "execution_count": null,
   "metadata": {},
   "outputs": [],
   "source": [
    "sns.violinplot(x=\"day\", y=\"tip\", data=tips, palette=\"rainbow\")\n",
    "plt.show()"
   ]
  },
  {
   "cell_type": "code",
   "execution_count": null,
   "metadata": {},
   "outputs": [],
   "source": [
    "# again, the hue argument can be used for categorical splitting\n",
    "sns.violinplot(x=\"day\", y=\"tip\", data=tips, hue=\"sex\",palette=\"magma\")\n",
    "plt.show()"
   ]
  },
  {
   "cell_type": "code",
   "execution_count": null,
   "metadata": {},
   "outputs": [],
   "source": [
    "# setting \"split\" to True will draw half of a violin for each level\n",
    "sns.violinplot(x=\"day\", y=\"tip\", data=tips,hue='sex',\n",
    "               split=True,palette=\"rainbow\")\n",
    "plt.show()"
   ]
  },
  {
   "cell_type": "markdown",
   "metadata": {},
   "source": [
    "### Distribution plots"
   ]
  },
  {
   "cell_type": "markdown",
   "metadata": {},
   "source": [
    "#### Histograms"
   ]
  },
  {
   "cell_type": "code",
   "execution_count": null,
   "metadata": {},
   "outputs": [],
   "source": [
    "sns.histplot(tips[\"tip\"], bins=30, kde=True)\n",
    "plt.show()"
   ]
  },
  {
   "attachments": {},
   "cell_type": "markdown",
   "metadata": {},
   "source": [
    "#### Jointplots (multiple distributions)\n",
    "\n",
    "Jointplots are excellent tools for plotting bivariate relationships."
   ]
  },
  {
   "cell_type": "code",
   "execution_count": null,
   "metadata": {},
   "outputs": [],
   "source": [
    "sns.jointplot(x=\"total_bill\",y=\"tip\",data=tips,\n",
    "              kind=\"reg\")\n",
    "plt.show()"
   ]
  },
  {
   "cell_type": "markdown",
   "metadata": {},
   "source": [
    "### Pair plots\n",
    "\n",
    "Pair plots allow for the representation of multiple relationships along rows and columns. This is a great tool for uncovering hidden relationships in your data."
   ]
  },
  {
   "cell_type": "code",
   "execution_count": null,
   "metadata": {},
   "outputs": [],
   "source": [
    "# remember all the variables in our dataset\n",
    "tips.info()"
   ]
  },
  {
   "cell_type": "code",
   "execution_count": null,
   "metadata": {},
   "outputs": [],
   "source": [
    "sns.pairplot(tips, palette=\"magma\", height=3, hue=\"time\")\n",
    "plt.show()"
   ]
  },
  {
   "cell_type": "markdown",
   "metadata": {},
   "source": [
    "---"
   ]
  }
 ],
 "metadata": {
  "kernelspec": {
   "display_name": "Python 3 (ipykernel)",
   "language": "python",
   "name": "python3"
  },
  "language_info": {
   "codemirror_mode": {
    "name": "ipython",
    "version": 3
   },
   "file_extension": ".py",
   "mimetype": "text/x-python",
   "name": "python",
   "nbconvert_exporter": "python",
   "pygments_lexer": "ipython3",
   "version": "3.12.2"
  }
 },
 "nbformat": 4,
 "nbformat_minor": 4
}
