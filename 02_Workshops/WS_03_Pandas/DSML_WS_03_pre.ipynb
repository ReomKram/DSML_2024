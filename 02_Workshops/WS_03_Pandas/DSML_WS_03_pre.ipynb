{
 "cells": [
  {
   "cell_type": "markdown",
   "metadata": {},
   "source": [
    "# `DSML_WS_03` - Introduction to Pandas"
   ]
  },
  {
   "cell_type": "markdown",
   "metadata": {},
   "source": [
    "Please work on the following tasks **before** the third workshop session."
   ]
  },
  {
   "cell_type": "markdown",
   "metadata": {},
   "source": [
    "## 1. Working with student grades in NumPy"
   ]
  },
  {
   "cell_type": "markdown",
   "metadata": {},
   "source": [
    "Last week, you made yourself familiar with NumPy. Let's check your NumPy knowledge using a small case.\n",
    "\n",
    "Imagine you are the teacher of a class of 15 students. During the year, the class has written 3 tests, each with a maximum of 100 points. You want to summarize the students' performances using NumPy.\n",
    "\n",
    "1. Simulate the described case by creating a two-dimensional NumPy array with each row representing a student and each column representing a test. Generate random scores for each student and test between 0 and 100, and assign the array to a variable called `student_scores`.\n",
    "2. Oops! You completely forgot Thomas, who joined the class during the school year after the first test. Thomas' score for the second test was 87, and 93 for the third test.\n",
    "    - Since Thomas does not have a score for the first test, you want to simply use the average score of all other students. Calculate this and assign it to a variable called `avg_first_test`. (Hint: array slicing and the function np.mean() might be helpful here)\n",
    "    - Add Thomas using `avg_first_test` as his first test score and his actual second and third test scores to `student_scores`.\n",
    "3. You want to generate the sum of the scores from all three tests for each student. Do this using a matrix multiplication and save the resulting array to a variable called `student_totals`.\n",
    "4. Finally, you want to transform the total scores in `student_totals` to a percentage of maximum available points. Assign this array to a variable called `student_pct`."
   ]
  },
  {
   "cell_type": "code",
   "execution_count": 2,
   "metadata": {},
   "outputs": [
    {
     "name": "stdout",
     "output_type": "stream",
     "text": [
      "[154. 120. 122.  97. 151. 246. 184. 115. 137. 174. 115. 106. 149. 174.\n",
      "  66. 235.]\n",
      "[0.51333333 0.4        0.40666667 0.32333333 0.50333333 0.82\n",
      " 0.61333333 0.38333333 0.45666667 0.58       0.38333333 0.35333333\n",
      " 0.49666667 0.58       0.22       0.78333333]\n"
     ]
    }
   ],
   "source": [
    "# your code here\n",
    "import numpy as np\n",
    "\n",
    "#1\n",
    "#create a 2D array of 5 students and their scores between 0-100\n",
    "students = ['Alice', 'Bob', 'Cathy', 'David', 'Eva', 'Frank', 'Grace', 'Helen', 'Ivy', 'Jack', 'Kelly', 'Lily', 'Mary', 'Nancy']\n",
    "student_scores = np.random.randint(0,100,size = (15,5))\n",
    "#print(student_scores)\n",
    "\n",
    "#2\n",
    "avg_first_test = student_scores[1,:].mean()\n",
    "thomass_scores = np.array([avg_first_test,87,93,0,0])\n",
    "np.append(students,'Thomas')\n",
    "student_scores = np.vstack((student_scores,thomass_scores))\n",
    "#print(student_scores)\n",
    "\n",
    "#3\n",
    "#find the average score of each student from the first three tests\n",
    "avg_scores = student_scores[:,:3].mean(axis=1).astype(int)\n",
    "#print(avg_scores)\n",
    "\n",
    "#4\n",
    "#find the sum of all three tests for each student\n",
    "student_totals = student_scores[:,:3].sum(axis=1)\n",
    "print(student_totals)\n",
    "\n",
    "#5\n",
    "#calculate the percentage of every student's total score\n",
    "student_pct = student_totals/300\n",
    "print(student_pct)\n"
   ]
  },
  {
   "cell_type": "markdown",
   "metadata": {},
   "source": [
    "## 2. Getting started with Pandas"
   ]
  },
  {
   "cell_type": "markdown",
   "metadata": {},
   "source": [
    "This week, we will be exploring Pandas - a core package for working with data in Python. You can think of Pandas as enhanced versions of NumPy arrays. Let's see why.\n",
    "\n",
    "As always, we first have to import pandas to use its functionalities within this Jupyter notebook. Pandas is commonly abbreviated using pd."
   ]
  },
  {
   "cell_type": "code",
   "execution_count": 25,
   "metadata": {},
   "outputs": [],
   "source": [
    "import pandas as pd"
   ]
  },
  {
   "cell_type": "markdown",
   "metadata": {},
   "source": [
    "The Pandas equivalent to a one-dimensional array is a Series object, which you can create just like arrays, but use pd.Series instead of np.array. Let's stick with the student grade example from Task 1, but focus on only five students: Helena, Tom, Nina, Sam and Kim, who are 15, 15, 16, 17 and 16 years old, and scored 75, 69, 87, 88, and 54 points on the first test. Create three Pandas Series objects called `names`, `ages` and `scores` to store the respective data about our five students. How do Pandas Series objects differ from NumPy arrays?"
   ]
  },
  {
   "cell_type": "code",
   "execution_count": 30,
   "metadata": {},
   "outputs": [
    {
     "name": "stdout",
     "output_type": "stream",
     "text": [
      "0    0    Helena\n",
      "1       Tom\n",
      "2      Nina\n",
      "3       Sa...\n",
      "1    0    15\n",
      "1    15\n",
      "2    16\n",
      "3    17\n",
      "4    16\n",
      "dtype:...\n",
      "2    0    75\n",
      "1    69\n",
      "2    87\n",
      "3    88\n",
      "4    54\n",
      "dtype:...\n",
      "dtype: object\n"
     ]
    }
   ],
   "source": [
    "# your code here\n",
    "lst = ['Helena','Tom','Nina','Sam','Kim']\n",
    "names = pd.Series(lst)\n",
    "ages = pd.Series([15,15,16,17,16])\n",
    "scores = pd.Series([75, 69, 87, 88, 54])\n",
    "\n",
    "student_info = pd.Series([names,ages,scores])\n",
    "print(student_info)"
   ]
  },
  {
   "cell_type": "markdown",
   "metadata": {},
   "source": [
    "At the heart of Pandas are dataframes, the equivalent to two-dimensional arrays. Let's combine our three Series objects into one dataframe using pd.DataFrame({'name_1': series_1, 'name_2': series_2,...}) and assign it to a variable called `students`. How does the dataframe differ from a two-dimensional array?"
   ]
  },
  {
   "cell_type": "code",
   "execution_count": 32,
   "metadata": {},
   "outputs": [
    {
     "name": "stdout",
     "output_type": "stream",
     "text": [
      "     Name  Age  Score\n",
      "0  Helena   15     75\n",
      "1     Tom   15     69\n",
      "2    Nina   16     87\n",
      "3     Sam   17     88\n",
      "4     Kim   16     54\n"
     ]
    }
   ],
   "source": [
    "# your code here\n",
    "students = pd.DataFrame({'Name':names,'Age':ages,'Score':scores})\n",
    "print(students)"
   ]
  },
  {
   "cell_type": "markdown",
   "metadata": {},
   "source": [
    "You can select specific information from your dataframe using the .loc[row_name, column_name] method. Return all rows but only the age column using .loc."
   ]
  },
  {
   "cell_type": "code",
   "execution_count": 33,
   "metadata": {},
   "outputs": [
    {
     "data": {
      "text/plain": [
       "0    15\n",
       "1    15\n",
       "2    16\n",
       "3    17\n",
       "4    16\n",
       "Name: Age, dtype: int64"
      ]
     },
     "execution_count": 33,
     "metadata": {},
     "output_type": "execute_result"
    }
   ],
   "source": [
    "# your code here\n",
    "students.loc[:,'Age']"
   ]
  },
  {
   "cell_type": "markdown",
   "metadata": {},
   "source": [
    "We can also use .loc to filter based on certain conditions. For example, if I want to only return Helena's test score, I could write `students.loc[students.name == 'Helena','score']`. Return all information on students with a score higher than 80."
   ]
  },
  {
   "cell_type": "code",
   "execution_count": 37,
   "metadata": {},
   "outputs": [
    {
     "data": {
      "text/html": [
       "<div>\n",
       "<style scoped>\n",
       "    .dataframe tbody tr th:only-of-type {\n",
       "        vertical-align: middle;\n",
       "    }\n",
       "\n",
       "    .dataframe tbody tr th {\n",
       "        vertical-align: top;\n",
       "    }\n",
       "\n",
       "    .dataframe thead th {\n",
       "        text-align: right;\n",
       "    }\n",
       "</style>\n",
       "<table border=\"1\" class=\"dataframe\">\n",
       "  <thead>\n",
       "    <tr style=\"text-align: right;\">\n",
       "      <th></th>\n",
       "      <th>Name</th>\n",
       "      <th>Age</th>\n",
       "      <th>Score</th>\n",
       "    </tr>\n",
       "  </thead>\n",
       "  <tbody>\n",
       "    <tr>\n",
       "      <th>2</th>\n",
       "      <td>Nina</td>\n",
       "      <td>16</td>\n",
       "      <td>87</td>\n",
       "    </tr>\n",
       "    <tr>\n",
       "      <th>3</th>\n",
       "      <td>Sam</td>\n",
       "      <td>17</td>\n",
       "      <td>88</td>\n",
       "    </tr>\n",
       "  </tbody>\n",
       "</table>\n",
       "</div>"
      ],
      "text/plain": [
       "   Name  Age  Score\n",
       "2  Nina   16     87\n",
       "3   Sam   17     88"
      ]
     },
     "execution_count": 37,
     "metadata": {},
     "output_type": "execute_result"
    }
   ],
   "source": [
    "# your code here\n",
    "students.loc[students.Score > 80,:]\n"
   ]
  },
  {
   "cell_type": "code",
   "execution_count": null,
   "metadata": {},
   "outputs": [],
   "source": []
  }
 ],
 "metadata": {
  "kernelspec": {
   "display_name": "DSML_env",
   "language": "python",
   "name": "python3"
  },
  "language_info": {
   "codemirror_mode": {
    "name": "ipython",
    "version": 3
   },
   "file_extension": ".py",
   "mimetype": "text/x-python",
   "name": "python",
   "nbconvert_exporter": "python",
   "pygments_lexer": "ipython3",
   "version": "3.12.2"
  }
 },
 "nbformat": 4,
 "nbformat_minor": 2
}
