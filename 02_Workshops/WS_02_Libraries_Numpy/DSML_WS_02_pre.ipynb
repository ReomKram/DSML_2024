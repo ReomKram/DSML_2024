{
 "cells": [
  {
   "cell_type": "markdown",
   "metadata": {},
   "source": [
    "# `DSML_WS_02` - Introduction to Python Library Management & `NumPy`"
   ]
  },
  {
   "cell_type": "markdown",
   "metadata": {},
   "source": [
    "Please work on the following tasks **before** the second workshop session."
   ]
  },
  {
   "cell_type": "markdown",
   "metadata": {},
   "source": [
    "## 1. Programming a simple calculator in Python"
   ]
  },
  {
   "cell_type": "markdown",
   "metadata": {},
   "source": [
    "Last week, you made yourself familiar with Python, getting to know about data structures like values, lists and dictionaries, explored for loops and if statements, and learned how to define functions. To put your knowledge of basic Python to the test, write a properly documented python function that can perform the taks of a simple calculator with the following behaviour:\n",
    "\n",
    "1. The user shall pass the desired mathematical operation (plus, minus, divide, multiply) and two numbers\n",
    "\n",
    "2. The result shall be calculated and printed\n",
    "\n",
    "3. If the input for the mathematical operation is not covered by the list from above, print \"Please correct your input\"\n",
    "\n",
    "**You should use the following elements:** \n",
    "\n",
    "- If/elif/else statement\n",
    "- Functions\n",
    "- Mathematical expressions"
   ]
  },
  {
   "cell_type": "code",
   "execution_count": 33,
   "metadata": {},
   "outputs": [],
   "source": [
    "\n",
    "def simple_calc(first_num, ops, second_num):\n",
    "    \"\"\"\n",
    "    Perform a mathematical operation between two numbers\n",
    "    ...\n",
    "    \n",
    "    Arguments\n",
    "    ---------\n",
    "    first_num     : int/float\n",
    "                    first number in calculation\n",
    "                    \n",
    "    ops           : str\n",
    "                    mathematical operation; ops=[\"plus\", \"minus\", \"multiply\", \"divide\"]\n",
    "    \n",
    "    second_num    : int/float\n",
    "                    second number in calculation\n",
    "    \n",
    "    Returns\n",
    "    -------\n",
    "    result : str\n",
    "            Operation and results of operation as string\n",
    "    \"\"\"\n",
    "    #### your code below ####\n",
    "    if(ops == \"plus\"):\n",
    "        result = first_num + second_num\n",
    "    elif(ops == \"minus\"):\n",
    "        result = first_num - second_num\n",
    "    elif(ops == \"multiply\"):\n",
    "        result = first_num * second_num\n",
    "    elif(ops == \"divide\"):\n",
    "        if(second_num == 0):\n",
    "            return \"why did you divide by 0?\"\n",
    "        result = first_num/second_num\n",
    "    else:\n",
    "        return \"Please correct your imput\"\n",
    "\n",
    "    returnString = \"The result is: \" + str(result)\n",
    "    return returnString\n"
   ]
  },
  {
   "cell_type": "code",
   "execution_count": 34,
   "metadata": {},
   "outputs": [
    {
     "name": "stdout",
     "output_type": "stream",
     "text": [
      "why did you divide by 0?\n"
     ]
    }
   ],
   "source": [
    "# try out your calculator by calling the simple_calc function with different argument values\n",
    "print(simple_calc(2,\"divide\",0))"
   ]
  },
  {
   "cell_type": "markdown",
   "metadata": {},
   "source": [
    "## 2. Getting started with NumPy"
   ]
  },
  {
   "cell_type": "markdown",
   "metadata": {},
   "source": [
    "This week, we will be exploring our first Python package, namely NumPy. Get prepared for the workshop by completing the below steps:"
   ]
  },
  {
   "cell_type": "markdown",
   "metadata": {},
   "source": [
    "In order to use NumPy's capabilities, we first have to import it. Do this by running the following cell. We use the `as` keyword so we can use an abbreviation when calling NumPy methods."
   ]
  },
  {
   "cell_type": "code",
   "execution_count": 36,
   "metadata": {},
   "outputs": [],
   "source": [
    "import numpy as np"
   ]
  },
  {
   "cell_type": "markdown",
   "metadata": {},
   "source": [
    "The core structure of NumPy is the N-dimensional array object. You can create arrays using `np.array([..,..,..])`. Do the following:\n",
    "1. Create a list of 5 integers and assign it to a variable called `lst`.\n",
    "2. Use `lst` to create a NumPy array, and assign this array to a variable called `my_first_array`.\n",
    "3. Verify that the type of `my_first_array` is np.array.\n",
    "4. Create a second array, consisting of the first 3 numbers from `my_first_array`, and assign it to a variable called `my_second_array` (tip: selecting a subset of elements from arrays works similarly to lists).\n",
    "5. Create a third array, which contains each number from `my_second_array` multiplied by 3, and assign it to a variable called `my_third_array` (tip: thinking about list operations from last week will help you here once again)."
   ]
  },
  {
   "cell_type": "code",
   "execution_count": 39,
   "metadata": {},
   "outputs": [
    {
     "name": "stdout",
     "output_type": "stream",
     "text": [
      "my_array is a numpy array\n",
      "[6, 7, 2]\n",
      "[18 21  6]\n"
     ]
    }
   ],
   "source": [
    "# your code here\n",
    "lst = [6,7,2,3,4]\n",
    "my_first_array = np.array(lst)\n",
    "\n",
    "if isinstance(my_first_array, np.ndarray):\n",
    "    print(\"my_array is a numpy array\")\n",
    "else:\n",
    "    print(\"my_array is not a numpy array\")\n",
    "\n",
    "my_second_array = np.array(my_first_array[0:3])\n",
    "my_third_array = my_second_array*3\n",
    "\n",
    "print(my_second_array.tolist())\n",
    "print(my_third_array.tolist())\n"
   ]
  },
  {
   "cell_type": "markdown",
   "metadata": {},
   "source": [
    "Finally, let's combine `my_second_array` and `my_third_array`. We can use the functions np.hstack((`first_array`,`second_array`)) or np.vstack((`first_array`,`second_array`)) for this. Combine `my_second_array` and `my_third_array` using both functions. How does the output differ? Can I also use both functions to combine `my_first_array`and `my_second_array`?"
   ]
  },
  {
   "cell_type": "code",
   "execution_count": 40,
   "metadata": {},
   "outputs": [
    {
     "name": "stdout",
     "output_type": "stream",
     "text": [
      "[ 6  7  2 18 21  6]\n",
      "[[ 6  7  2]\n",
      " [18 21  6]]\n"
     ]
    }
   ],
   "source": [
    "# your code here\n",
    "my_hcombined_array = np.hstack((my_second_array,my_third_array))\n",
    "my_vcombined_array = np.vstack((my_second_array,my_third_array))\n",
    "\n",
    "print(my_hcombined_array)\n",
    "print(my_vcombined_array)\n"
   ]
  }
 ],
 "metadata": {
  "kernelspec": {
   "display_name": "DSML_env",
   "language": "python",
   "name": "python3"
  },
  "language_info": {
   "codemirror_mode": {
    "name": "ipython",
    "version": 3
   },
   "file_extension": ".py",
   "mimetype": "text/x-python",
   "name": "python",
   "nbconvert_exporter": "python",
   "pygments_lexer": "ipython3",
   "version": "3.12.2"
  }
 },
 "nbformat": 4,
 "nbformat_minor": 2
}
